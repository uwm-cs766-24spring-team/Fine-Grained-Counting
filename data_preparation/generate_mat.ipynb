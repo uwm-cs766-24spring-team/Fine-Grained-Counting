{
 "cells": [
  {
   "cell_type": "code",
   "execution_count": 2,
   "metadata": {},
   "outputs": [],
   "source": [
    "import scipy\n",
    "from matplotlib import pyplot as plt\n",
    "from PIL import Image\n",
    "import numpy as np\n",
    "import json\n",
    "import os\n",
    "\n",
    "dataset = \"Towards_vs_Away\"\n",
    "path_prefix = \"../../../dataset/Fine-Grained-Counting-Dataset/\" + dataset + \"/\"\n",
    "img_prefix = path_prefix + \"images/\"\n",
    "gt_prefix = path_prefix + \"ground_truth/\"\n",
    "os.makedirs(gt_prefix, exist_ok=True)\n",
    "\n",
    "anotations = open(path_prefix + \"annotations/annotations.json\")\n",
    "anotations = json.load(anotations)\n",
    "\n",
    "for file_name in anotations.keys():\n",
    "    img = Image.open(img_prefix + file_name)\n",
    "    ano = anotations[file_name]\n",
    "    towards = ano[0]\n",
    "    away = ano[1]\n",
    "    towards = np.c_[towards[\"x\"], towards[\"y\"]].astype(np.float32)\n",
    "    away = np.c_[away[\"x\"], away[\"y\"]].astype(np.float32)\n",
    "    scipy.io.savemat(gt_prefix + file_name[:-4] + \".mat\", {\"towards\": towards, \"away\": away})\n",
    "    # print(towards, away)\n",
    "    # plt.imshow(img)\n",
    "    # plt.scatter(towards[:, 0], towards[:, 1], c=\"r\", s=1)\n",
    "    # plt.scatter(away[:, 0], away[:, 1], c=\"y\", s=1)\n",
    "    # plt.show()"
   ]
  },
  {
   "cell_type": "code",
   "execution_count": null,
   "metadata": {},
   "outputs": [],
   "source": []
  }
 ],
 "metadata": {
  "kernelspec": {
   "display_name": "base",
   "language": "python",
   "name": "python3"
  },
  "language_info": {
   "codemirror_mode": {
    "name": "ipython",
    "version": 3
   },
   "file_extension": ".py",
   "mimetype": "text/x-python",
   "name": "python",
   "nbconvert_exporter": "python",
   "pygments_lexer": "ipython3",
   "version": "3.11.7"
  }
 },
 "nbformat": 4,
 "nbformat_minor": 2
}
